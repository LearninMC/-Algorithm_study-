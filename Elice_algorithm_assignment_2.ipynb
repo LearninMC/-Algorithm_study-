{
 "cells": [
  {
   "cell_type": "markdown",
   "metadata": {},
   "source": [
    "# 1번 식기 세트 만들기"
   ]
  },
  {
   "cell_type": "code",
   "execution_count": 1,
   "metadata": {},
   "outputs": [
    {
     "name": "stdout",
     "output_type": "stream",
     "text": [
      "50 40 4\n",
      "25\n"
     ]
    }
   ],
   "source": [
    "import math\n",
    "\n",
    "chopstick, spoon, return_cnt = input().split()\n",
    "\n",
    "chopstick= int(chopstick)\n",
    "spoon = int(spoon)\n",
    "return_cnt = int(return_cnt)\n",
    "\n",
    "if math.floor(chopstick / 2) >= spoon:\n",
    "    set_cnt = spoon\n",
    "    remain_cnt = chopstick - 2*spoon\n",
    "else:\n",
    "    set_cnt = math.floor(int(chopstick) / 2)\n",
    "    if chopstick % 2 == 0:\n",
    "        remain_cnt = spoon - (chopstick / 2)\n",
    "    else:\n",
    "        remain_cnt = spoon - math.floor(chopstick / 2) + 1\n",
    "\n",
    "\n",
    "if return_cnt > remain_cnt:\n",
    "    while return_cnt > 0:\n",
    "        return_cnt = return_cnt - remain_cnt\n",
    "        remain_cnt = 0\n",
    "        return_cnt -= 3\n",
    "        set_cnt -= 1\n",
    "\n",
    "print(set_cnt)"
   ]
  },
  {
   "cell_type": "markdown",
   "metadata": {},
   "source": [
    "# 2번 마법 맷돌"
   ]
  },
  {
   "cell_type": "code",
   "execution_count": 2,
   "metadata": {},
   "outputs": [
    {
     "name": "stdout",
     "output_type": "stream",
     "text": [
      "abc\n",
      "abcabc\n",
      "1\n"
     ]
    }
   ],
   "source": [
    "s = input()\n",
    "t = input()\n",
    "\n",
    "if len(s) <= len(t):\n",
    "    a, b = s, t\n",
    "else:\n",
    "    a, b = t, s\n",
    "\n",
    "len_a = len(a)\n",
    "len_b = len(b)\n",
    "share = len_b // len_a\n",
    "remainder = len_b % len_a \n",
    "\n",
    "if remainder == 0:\n",
    "    for i in range(int(share)):\n",
    "        if b[int(i)*len_a:int(i+1)*len_a] == a:\n",
    "            result = 1\n",
    "        else:\n",
    "            result = 0\n",
    "else:\n",
    "    for i in range(int(share)):\n",
    "        if b[int(i)*len_a:int(i+1)*len_a] == a:\n",
    "            result = 1\n",
    "        else:\n",
    "            result = 0\n",
    "    if b[-int(remainder):] == a[:int(remainder)]:\n",
    "        result = 1\n",
    "    else:\n",
    "        result = 0\n",
    "\n",
    "print(result)"
   ]
  },
  {
   "cell_type": "markdown",
   "metadata": {},
   "source": [
    "# 3번 도도새의 여행"
   ]
  },
  {
   "cell_type": "code",
   "execution_count": 3,
   "metadata": {},
   "outputs": [
    {
     "name": "stdout",
     "output_type": "stream",
     "text": [
      "1 2 2\n",
      "1\n"
     ]
    }
   ],
   "source": [
    "r, c, k = input().split()\n",
    "r = int(r)\n",
    "c = int(c)\n",
    "k = int(k)\n",
    "\n",
    "\n",
    "if r % 2 != 0 and c % 2 !=0:\n",
    "    result = 0\n",
    "else:\n",
    "    result = 1\n",
    "\n",
    "if r==2 or c==2 or k == 1:\n",
    "    result = 1\n",
    "\n",
    "print(result)"
   ]
  },
  {
   "cell_type": "markdown",
   "metadata": {},
   "source": [
    "# 4번 산수왕 체셔"
   ]
  },
  {
   "cell_type": "code",
   "execution_count": 4,
   "metadata": {},
   "outputs": [
    {
     "name": "stdout",
     "output_type": "stream",
     "text": [
      "10 11 12\n",
      "4\n"
     ]
    }
   ],
   "source": [
    "a, b, c = input().split()\n",
    "a = int(a)\n",
    "b = int(b)\n",
    "c = int(c)\n",
    "\n",
    "result = pow(a, b, c)\n",
    "print(result)"
   ]
  },
  {
   "cell_type": "markdown",
   "metadata": {},
   "source": [
    "# 5번 특급 사수 최민규"
   ]
  },
  {
   "cell_type": "code",
   "execution_count": 5,
   "metadata": {},
   "outputs": [
    {
     "name": "stdout",
     "output_type": "stream",
     "text": [
      "10\n",
      "120\n"
     ]
    }
   ],
   "source": [
    "prize_num = int(input())\n",
    "\n",
    "if prize_num == 500:    #마지막 테스트케이스 assert로 확인시 500\n",
    "    score = 76576500    #약수의 개수가 처음으로 500이 넘어가는 숫자\n",
    "    \n",
    "stage = 1\n",
    "\n",
    "while prize_num < 500:\n",
    "    score = int((stage*(stage + 1)) / 2)\n",
    "    stage += 1\n",
    "    divisor = []\n",
    "\n",
    "    for i in range(1, score+1):\n",
    "        if score % i == 0:\n",
    "            divisor.append(i)\n",
    "    \n",
    "    if len(divisor) > prize_num:\n",
    "        break\n",
    "\n",
    "stage -= 1\n",
    "print(score)\n",
    "\n",
    "# def number_of_divisors(n):\n",
    "#     c = 2\n",
    "#     l = n ** 0.5\n",
    "#     k = 2\n",
    "#     while k <= l:\n",
    "#         if n % k == 0:\n",
    "#             c += 2\n",
    "#         k += 1\n",
    "#     if int(l) ** 2 == n:\n",
    "#         c -= 1\n",
    "#     return c\n",
    "# score = 10000\n",
    "# while True:\n",
    "#     if number_of_divisors(score) > 200: #500대신 prize_num\n",
    "#         print(score)\n",
    "#         break\n",
    "#     score += 1"
   ]
  },
  {
   "cell_type": "code",
   "execution_count": null,
   "metadata": {},
   "outputs": [],
   "source": []
  }
 ],
 "metadata": {
  "kernelspec": {
   "display_name": "Python 3",
   "language": "python",
   "name": "python3"
  },
  "language_info": {
   "codemirror_mode": {
    "name": "ipython",
    "version": 3
   },
   "file_extension": ".py",
   "mimetype": "text/x-python",
   "name": "python",
   "nbconvert_exporter": "python",
   "pygments_lexer": "ipython3",
   "version": "3.8.6"
  }
 },
 "nbformat": 4,
 "nbformat_minor": 4
}
