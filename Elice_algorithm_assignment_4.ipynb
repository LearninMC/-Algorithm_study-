{
  "nbformat": 4,
  "nbformat_minor": 0,
  "metadata": {
    "colab": {
      "name": "Elice_algorithm_assignment_4.ipynb",
      "provenance": [],
      "collapsed_sections": []
    },
    "kernelspec": {
      "name": "python3",
      "display_name": "Python 3"
    },
    "language_info": {
      "name": "python"
    }
  },
  "cells": [
    {
      "cell_type": "markdown",
      "source": [
        "### 문제 : 세 변의 길이 -> 직각삼각형 여부 판별"
      ],
      "metadata": {
        "id": "EJ6qTZ5W16D6"
      }
    },
    {
      "cell_type": "code",
      "execution_count": 2,
      "metadata": {
        "colab": {
          "base_uri": "https://localhost:8080/"
        },
        "id": "vRWjPWYF0utc",
        "outputId": "94029060-3187-4acd-cdff-7cd1394015db"
      },
      "outputs": [
        {
          "name": "stdout",
          "output_type": "stream",
          "text": [
            "5 3 4\n",
            "rightangle\n",
            "4  5 6\n",
            "triangle\n",
            "0\n"
          ]
        }
      ],
      "source": [
        "while True:\n",
        "    a = []\n",
        "    a = [int(v) for v in input().split()]\n",
        "    if a[0] == 0:\n",
        "        break\n",
        "    \n",
        "    a.sort()\n",
        "    if a[2] ** 2 == (a[1] ** 2) + (a[0] ** 2):\n",
        "        print(\"rightangle\")\n",
        "    else:\n",
        "        print(\"triangle\")"
      ]
    },
    {
      "cell_type": "markdown",
      "source": [
        "### 문제 : 특정 문자열1 입력, 일반 문자열 N개 입력, 일반 문자열 첫글자와 마지막글자는 이어져있고 무한 반복되는 구조. 일반 문자열 N개 중에 특정 문자열1이 존재하는지 안하는지 구하기"
      ],
      "metadata": {
        "id": "SDijq6Tp20qe"
      }
    },
    {
      "cell_type": "code",
      "source": [
        "nick_name = input()\n",
        "n = int(input())\n",
        "ln = len(nick_name)\n",
        "\n",
        "rings = list()\n",
        "for i in range(n):\n",
        "    rings.append(2*input())\n",
        "\n",
        "cnt = 0\n",
        "\n",
        "for ring in rings:\n",
        "    for start in range(len(ring)//2):\n",
        "        if ring[start:start+ln] == nick_name:\n",
        "            cnt += 1\n",
        "            break\n",
        "\n",
        "print(cnt)"
      ],
      "metadata": {
        "colab": {
          "base_uri": "https://localhost:8080/"
        },
        "id": "0s7QvDfB2SRs",
        "outputId": "89e3249b-2dc6-4058-cd00-0992b8839aff"
      },
      "execution_count": 1,
      "outputs": [
        {
          "output_type": "stream",
          "name": "stdout",
          "text": [
            "ABC\n",
            "2\n",
            "ABCAAAAAAA\n",
            "CEWRIDLSJAB\n",
            "2\n"
          ]
        }
      ]
    },
    {
      "cell_type": "markdown",
      "source": [
        "### 문제 : 사람1, 사람2, 사람3 이 있고, 사람1이 모형 폭탄을 들고 있음. 사람들이 M 번 자리바꾸기를 할 때, 폭탄을 들고 있는 사람 찾기 "
      ],
      "metadata": {
        "id": "sstE6VyZ3FU0"
      }
    },
    {
      "cell_type": "code",
      "source": [
        "m = int(input())\n",
        "sw_plan = list()\n",
        "\n",
        "for i in range(m):\n",
        "    sw_plan.append([int(v) for v in input().split()])\n",
        "\n",
        "yongman_map = [\"0\", \"1\", \"0\", \"0\"]\n",
        "\n",
        "for x, y in sw_plan:\n",
        "    temp = yongman_map[x]\n",
        "    yongman_map[x] = yongman_map[y]\n",
        "    yongman_map[y] = temp\n",
        "\n",
        "for position, yongman in enumerate(yongman_map):\n",
        "    if yongman == '1':\n",
        "        result = position\n",
        "\n",
        "print(result)"
      ],
      "metadata": {
        "colab": {
          "base_uri": "https://localhost:8080/"
        },
        "id": "c-cPUFdG3Mn8",
        "outputId": "dbd89b2a-0b06-43e6-8adb-7e51f39fcec5"
      },
      "execution_count": 2,
      "outputs": [
        {
          "output_type": "stream",
          "name": "stdout",
          "text": [
            "4\n",
            "3 1\n",
            "2 3\n",
            "3 1\n",
            "3 2\n",
            "3\n"
          ]
        }
      ]
    },
    {
      "cell_type": "markdown",
      "source": [
        "### 문제 : 트리 그리기"
      ],
      "metadata": {
        "id": "CPTRks1a3NH5"
      }
    },
    {
      "cell_type": "code",
      "source": [
        "n, m = map(int, input().split())\n",
        "\n",
        "for i in range(n-m):\n",
        "    print(f'{i} {i+1}')\n",
        "for i in range(n-m+1, n):\n",
        "    print(f\"0 {i}\")"
      ],
      "metadata": {
        "colab": {
          "base_uri": "https://localhost:8080/"
        },
        "id": "_M_rWfAXYLX0",
        "outputId": "e1d9f788-a7fa-46cf-d4be-042837c6177a"
      },
      "execution_count": 3,
      "outputs": [
        {
          "output_type": "stream",
          "name": "stdout",
          "text": [
            "4 2\n",
            "0 1\n",
            "1 2\n",
            "0 3\n"
          ]
        }
      ]
    },
    {
      "cell_type": "markdown",
      "source": [
        "### 문제 : 정렬문제, 개인적으로 많이 어렵다고 느낌"
      ],
      "metadata": {
        "id": "dPKESAYT3SIg"
      }
    },
    {
      "cell_type": "code",
      "source": [
        "# 제출 60점\n",
        "\n",
        "n = int(input())\n",
        "my_list = list(map(int, input().split()))\n",
        "\n",
        "cnt = 0\n",
        "\n",
        "for i in range(0, n-1):\n",
        "    if my_list[i] > my_list[i+1]:\n",
        "        cnt += 1\n",
        "\n",
        "print(cnt)\n",
        "\n",
        "# 답안, bisect 함수를 사용 / 정렬을 유지하면서 어떤 숫자가 들어왔을 때, 몇번쨰 인덱스에 들어와야 정렬이 안깨지는지 알려줌\n",
        "from bisect import bisect_left\n",
        "n = int(input())\n",
        "d = [0]\n",
        "for x in map(int, input().split()):\n",
        "    d.append(222222)\n",
        "    d[bisect_left(d,x)]=x\n",
        "d.append(222222)\n",
        "print(n-d.index(222222)+1)"
      ],
      "metadata": {
        "colab": {
          "base_uri": "https://localhost:8080/"
        },
        "id": "hv5RMc2dYecA",
        "outputId": "cabf3953-cbcc-4065-9090-b02613725b15"
      },
      "execution_count": 5,
      "outputs": [
        {
          "output_type": "stream",
          "name": "stdout",
          "text": [
            "5\n",
            "2 1 4 5 3\n",
            "2\n",
            "5\n",
            "2 1 4 5 3\n",
            "2\n"
          ]
        }
      ]
    },
    {
      "cell_type": "markdown",
      "source": [
        "### 문제 : (DP동적계획법) "
      ],
      "metadata": {
        "id": "ZZ-CmIdS5DR-"
      }
    },
    {
      "cell_type": "code",
      "source": [
        "n = int(input())\n",
        "h = list(map(int, input().split()))\n",
        "cnt = 0\n",
        "\n",
        "# 독거미 리스트 모두 없어질 때까지 while 문 돌림\n",
        "while len(h) > 0:\n",
        "    shoot_h = h[0]  # 가장 맨 앞의 거미는, 무조건 이 높이로 쏴야 없앨 수 있음\n",
        "    del_list = []   # 중간에 리스트 요소 삭제하면, 리스트 인덱스가 계속 바뀌므로, 모아놨다가 나중에 한번에 처리\n",
        "\n",
        "    # 인덱스 0번부터 쭉 돌면서 삭제리스트에 추가함\n",
        "    for key, value in enumerate(h):\n",
        "        if shoot_h == value:\n",
        "            del_list.append(-key)\n",
        "            shoot_h -= 1\n",
        "\n",
        "            # 불필요한 계산 막기 위한 break\n",
        "            if shoot_h <= 0:\n",
        "                break\n",
        "            \n",
        "            # 다음 인덱스 부터 끝까지 h 높이의 총알이 없거나, i가 마지막 인덱스인 경우 break\n",
        "            # 만약 아래의 if문 안걸리면, 다시 위에 for문 타면서 인덱스 +1번 에 대해 진행\n",
        "            if (shoot_h not in h[key+1:]) or (key == len(h)-1):\n",
        "                break\n",
        "    \n",
        "    # 이제 모인 del_list 를 독거미 리스트에서 빼준다. 그리고 총알 사용한 횟수 +1 해주고, 다시 while 문 첫번째로 돌아감\n",
        "    del_list.sort()\n",
        "    for i in del_list:\n",
        "        del h[-1]\n",
        "    \n",
        "    # 혹시 모를 예외상황 대비. 만약 del_list가 없으면 아래의 cnt += 1되는 상황 막아줌\n",
        "    if len(del_list) == 0:\n",
        "        break\n",
        "    \n",
        "    cnt += 1\n",
        "\n",
        "print(cnt)\n",
        "\n",
        "# remove 같은 경우에 앞에 수가 나오면 먼저 없애줌. 그래서 인덱스를 사용해서 지워주는 방법을 택함.\n",
        "# 대신 인덱스를 앞에서 없애면 순서가 꼬이기 때문에 뒤에서부터 없애는 방식을 적용."
      ],
      "metadata": {
        "id": "evxGhXndagFV"
      },
      "execution_count": null,
      "outputs": []
    },
    {
      "cell_type": "markdown",
      "source": [
        "### 문제 : (이분탐색) 사업액 최대로 쓰면서 모든 부처에 돈 지원하기"
      ],
      "metadata": {
        "id": "RHZhHv_J7tPK"
      }
    },
    {
      "cell_type": "code",
      "source": [
        "n = int(input())\n",
        "budget_list = list(map(int, input().split()))\n",
        "m = int(input())\n",
        "\n",
        "budget_list.sort()  # 예산요청 오름차순\n",
        "limit = int(m/n)    # 평균 값, 소수점 내림\n",
        "\n",
        "check = 0\n",
        "a = 0\n",
        "b = 0\n",
        "\n",
        "# 아래 for문 돌리면 a+b는 m 보다 작거나 같을 수 밖에 없음\n",
        "for i in range(n):\n",
        "    if budget_list[i] < limit:\n",
        "        a += budget_list[i]\n",
        "        chk_idx = i # 상한액을 넘지 않는 범위에서 부서의 예산이 제일 큰 애의 인덱스 기억\n",
        "    else:\n",
        "        b += limit\n",
        "\n",
        "# case_1. 부서의 예산요청들이 평균 상한액보다 모두 작을 때, 예산 요청 제일 큰 값이 상한액이 됨.\n",
        "if (a + b < m) and (limit >= budget_list[-1]):\n",
        "    limit = budget_list[-1]\n",
        "    print(limit)\n",
        "\n",
        "# case_2. a+b <m 이면서 limit 값을 증가시킬 경우, 최대 예산액도 증가될 경우\n",
        "elif a + b < m:\n",
        "    while a + b < m:\n",
        "        limit += 1\n",
        "        # 점차 limit 값을 올리는데, 만약 다음 인덱스의 부서 예산 요청값이 상한액보다 작아질 경우\n",
        "        # 이제 이 인덱스의 최대값은 예산요청임. limit 가 올라간다고 해도 더 올려주면 안되기 때문에\n",
        "        # check 인덱스 값에 1을 더해줌\n",
        "        if budget_list[check+1] <= limit:\n",
        "            check += 1\n",
        "        a = sum(budget_list[:check+1])\n",
        "        b = len(budget_list[check+1:]) * limit\n",
        "    print(limit-1)\n",
        "\n",
        "# case_3. a+b = m 딱 맞아 떨어질 때, 당연히 이때의 limit 값이 최대 예산액\n",
        "else:\n",
        "    print(limit)"
      ],
      "metadata": {
        "colab": {
          "base_uri": "https://localhost:8080/"
        },
        "id": "FvSIbXXCgLO2",
        "outputId": "717778df-9c80-415f-c673-217af111d55a"
      },
      "execution_count": 6,
      "outputs": [
        {
          "output_type": "stream",
          "name": "stdout",
          "text": [
            "4\n",
            "140 110 135 150\n",
            "510\n",
            "133\n"
          ]
        }
      ]
    },
    {
      "cell_type": "markdown",
      "source": [
        "### 문제 : (그리디) 전등 켜는 시간의 최솟값을 구하기"
      ],
      "metadata": {
        "id": "vUCMnUmA79yl"
      }
    },
    {
      "cell_type": "code",
      "source": [
        "n, k = map(int, input().split())\n",
        "t = list()\n",
        "for i in range(n):\n",
        "    t.append(int(input()))\n",
        "\n",
        "# 병정들 시간 사이에 불이 계속 켜져있어야 하는 횟수\n",
        "light_on = n-k\n",
        "\n",
        "# 병정들 사이의 시간 gap, 일부러 음수로 append한 다음 sort함. 리스트는 뒤에서 빼야지 속도가 빠르다고 생각.\n",
        "t_gap = []\n",
        "for i in range(n-1):\n",
        "    t_gap.append( (t[i]+1) - t[i+1])\n",
        "t_gap.sort()\n",
        "\n",
        "# 최소 시간 구하기\n",
        "cnt = 0\n",
        "cnt += n\n",
        "for i in range(light_on):\n",
        "    cnt -= t_gap[-1]\n",
        "    del t_gap[-1]\n",
        "\n",
        "print(cnt)"
      ],
      "metadata": {
        "colab": {
          "base_uri": "https://localhost:8080/"
        },
        "id": "e-HdIbpuh44u",
        "outputId": "67eb1ae8-b6f2-4b35-88da-a13db618de9d"
      },
      "execution_count": 7,
      "outputs": [
        {
          "output_type": "stream",
          "name": "stdout",
          "text": [
            "3 2\n",
            "1\n",
            "3\n",
            "6\n",
            "4\n"
          ]
        }
      ]
    },
    {
      "cell_type": "markdown",
      "source": [
        "### 문제 : (DP 동적계획법) 거스름돈 받는 경우의 수\n",
        "첫번쨰 제출에서 시간 초과가 되었기 때문에 시간복잡도 고려해야하는 문제"
      ],
      "metadata": {
        "id": "QkRe1MtK8God"
      }
    },
    {
      "cell_type": "code",
      "source": [
        "n = int(input())\n",
        "c_lst = list(map(int, input().split())) # 코인 종류\n",
        "m = {int(input()):1}  # 거스름돈 형태를 딕셔너리 형태로 받음\n",
        "\n",
        "# 함수 만들기, 딕셔너리 타입은 forans 돌면서 관련된 딕셔너리 값이 변하면 바로 error발생함 주의!\n",
        "# for문 돌릴 때, 딕셔너리 방식을 사용하면 딕셔너리 관련된 값은 변하면 안됨\n",
        "# 그래서 바꿔주는 값이랑 연결고리 없도록 잘 설정. return 으로는 거스름돈 형태 딕셔너리 최신화 한 값.\n",
        "\n",
        "def my_func(coin, type_dict):\n",
        "    result = {}\n",
        "    for remain_price in type_dict.keys():\n",
        "        original_price = remain_price\n",
        "        while True:\n",
        "            next_remain_price = remain_price - coin\n",
        "            if next_remain_price >= 0:\n",
        "                if next_remain_price in type_dict:\n",
        "                    if next_remain_price in result: # next key 값이 type_dict 있고, result 있는 경우, 이미 type_dict[next] 값이 반영되어 있음\n",
        "                        result[next_remain_price] += type_dict[original_price]\n",
        "                    else:                           # next key 값이 type_dict 있고, result 없는 경우, 새로 더해줄 가지수와 존재하던 type next 값을 더해준다\n",
        "                        result[next_remain_price] = type_dict[original_price] + type_dict[next_remain_price]\n",
        "                else:\n",
        "                    if next_remain_price in result: # next key 값이 type_dict 없고, result 있는 경우, 새로 더해줄 가지수만 처리\n",
        "                        result[next_remain_price] += type_dict[original_price]\n",
        "                    else:                           # next key 값이 type_dict 없고, result 없는 경우, 새로 더해줄 가지수 + 존재하던 type next값(0)을 더해줌\n",
        "                        result[next_remain_price] = type_dict[original_price] + 0\n",
        "            else:\n",
        "                break\n",
        "            remain_price = next_remain_price\n",
        "        \n",
        "        return {**type_dict, **result}\n",
        "\n",
        "# 코인 종류를 맨 뒤에서부터 앞에서 두번째 까지 for문 돌림\n",
        "for i in range(n-1, 0, -1):\n",
        "    m = my_func(c_lst[i], m)\n",
        "\n",
        "# 이제 m 은 모든 종류의 거스름돈 형태의 리스트임\n",
        "# 코인 제일 작은 단위로 거스름돈을나눴을 때 나눠지면, 케이스로 들어가는 거고 나머지가 남으면 그 케이스는 제외\n",
        "\n",
        "cnt = 0\n",
        "for last_remain_price in m.keys():\n",
        "    if last_remain_price % c_lst[0] == 0:\n",
        "        cnt += m[last_remain_price]\n",
        "\n",
        "print(cnt)"
      ],
      "metadata": {
        "colab": {
          "base_uri": "https://localhost:8080/"
        },
        "id": "h6uM5fMviqWx",
        "outputId": "f53fa9da-7223-4f2f-a6da-86faf411850e"
      },
      "execution_count": 11,
      "outputs": [
        {
          "output_type": "stream",
          "name": "stdout",
          "text": [
            "3\n",
            "10 50 100\n",
            "100\n",
            "4\n"
          ]
        }
      ]
    }
  ]
}