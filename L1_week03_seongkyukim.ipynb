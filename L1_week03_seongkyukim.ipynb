{
 "cells": [
  {
   "cell_type": "markdown",
   "metadata": {},
   "source": [
    "# 도도새의 업무일지"
   ]
  },
  {
   "cell_type": "markdown",
   "metadata": {},
   "source": [
    "## 방법  \n",
    "  \n",
    "    \n",
    "[입력]  \n",
    "첫째 줄에는 업무일지 B의 길이를 나타내는 정수 N을 입력합니다. (1 ≤ N ≤ 100)  \n",
    "둘째 줄에는 업무일지 Bi를 이루는 N개의 정수를 입력합니다. (1 ≤ B_i ≤ 1,000)  \n",
    "  \n",
    "[출력]\n",
    "업무일지 A를 이루는 N개의 정수를 출력합니다. (1 ≤ A_i ≤ 1,000)"
   ]
  },
  {
   "cell_type": "code",
   "execution_count": 1,
   "metadata": {
    "scrolled": true
   },
   "outputs": [
    {
     "name": "stdout",
     "output_type": "stream",
     "text": [
      "5\n",
      "1 2 2 3 4\n",
      "\n",
      "결과:  1 3 2 6 8 "
     ]
    }
   ],
   "source": [
    "total_day = int(input())\n",
    "diary_b = input().split()\n",
    "diary_a = []\n",
    "\n",
    "diary_a.append(int(diary_b[0]))\n",
    "\n",
    "for i in range(1, total_day):\n",
    "    diary_a.append((i+1) * int(diary_b[i]) - i * int(diary_b[i-1]))\n",
    "\n",
    "for i in range(total_day):\n",
    "    print(str(diary_a[i]) + \" \", end=\"\")"
   ]
  },
  {
   "cell_type": "markdown",
   "metadata": {},
   "source": [
    "---\n",
    "---"
   ]
  },
  {
   "cell_type": "markdown",
   "metadata": {},
   "source": [
    "# 생수통"
   ]
  },
  {
   "cell_type": "markdown",
   "metadata": {},
   "source": [
    "## 방법\n",
    "[입력]\n",
    "첫 번째 줄부터 세 개의 물통의 가격을 한 줄씩, 두 개의 뚜껑 가격 두 줄을 입력합니다.\n",
    "※물통의 가격은 100원부터 500원까지이고 뚜껑의 가격은 20원부터 80원까지입니다.\n",
    "\n",
    "[출력]\n",
    "첫 번째 줄에 엘리스 샘물이 구매할 생수통 한 개 가격의 최솟값을 출력합니다."
   ]
  },
  {
   "cell_type": "code",
   "execution_count": 2,
   "metadata": {},
   "outputs": [
    {
     "name": "stdout",
     "output_type": "stream",
     "text": [
      "300\n",
      "200\n",
      "500\n",
      "20\n",
      "30\n",
      "\n",
      "결과:  230\n"
     ]
    }
   ],
   "source": [
    "bottle_buy = 500\n",
    "cap_buy = 80\n",
    "\n",
    "for i in range(3):\n",
    "    bottle_price = int(input())\n",
    "    if bottle_price < bottle_buy:\n",
    "        bottle_buy = bottle_price\n",
    "        \n",
    "\n",
    "for i in range(2):\n",
    "    cap_price = int(input())\n",
    "    if cap_price < cap_buy:\n",
    "        cap_buy = cap_price\n",
    "\n",
    "print(int(bottle_buy) + int(cap_buy) + 10)"
   ]
  },
  {
   "cell_type": "markdown",
   "metadata": {},
   "source": [
    "---\n",
    "---"
   ]
  },
  {
   "cell_type": "markdown",
   "metadata": {},
   "source": [
    "# 단백질 바"
   ]
  },
  {
   "cell_type": "markdown",
   "metadata": {},
   "source": [
    "## 방법\n",
    "\n",
    "[입력]  \n",
    "고객이 원하는 단백질 바 한 개의 단백질 함량을 나타내는 정수 N을 입력합니다. (1 ≤ N ≤ 10,000)  \n",
    "\n",
    "[출력]  \n",
    "한 개의 단백질 바에 들어가는 재료 큐브의 개수를 한 줄에 공백으로 구분하여 출력합니다. 출력의 순서는 땅콩 큐브, 닭가슴살 큐브, 순수 단백질 큐브입니다.  \n",
    "만약, 만들 수 없는 경우 -1을 출력합니다."
   ]
  },
  {
   "cell_type": "code",
   "execution_count": 3,
   "metadata": {},
   "outputs": [
    {
     "name": "stdout",
     "output_type": "stream",
     "text": [
      "300\n",
      "\n",
      "결과:  1 1 1\n"
     ]
    }
   ],
   "source": [
    "peanut_protein = 10\n",
    "chicken_protein = 40\n",
    "pure_protein = 250\n",
    "\n",
    "consumer_need = int(input())\n",
    "\n",
    "\n",
    "pure_cnt = consumer_need // pure_protein\n",
    "chicken_cnt = (consumer_need - 250*pure_cnt) // chicken_protein\n",
    "peanut_cnt = (consumer_need - 250*pure_cnt - 40*chicken_cnt) // peanut_protein\n",
    "\n",
    "if peanut_cnt == 0:\n",
    "    print(-1)\n",
    "elif (consumer_need - 250*pure_cnt - 40*chicken_cnt) % peanut_cnt != 0:\n",
    "    print(-1)\n",
    "else:\n",
    "    print(str(peanut_cnt) + \" \" + str(chicken_cnt) + \" \" + str(pure_cnt))"
   ]
  },
  {
   "cell_type": "markdown",
   "metadata": {},
   "source": [
    "---\n",
    "---"
   ]
  },
  {
   "cell_type": "markdown",
   "metadata": {},
   "source": [
    "# 숫자 나라 특허 전쟁"
   ]
  },
  {
   "cell_type": "markdown",
   "metadata": {},
   "source": [
    "## 방법  \n",
    "\n",
    "[입력]  \n",
    "첫째 줄에 자연수 N을 입력합니다. (1<= N <= 100,000)  \n",
    "\n",
    "[출력]  \n",
    "N보다 작은 자연수 중에서 특허가 걸려 마음대로 쓸 수 없는 수들의 합을 출력합니다.  "
   ]
  },
  {
   "cell_type": "code",
   "execution_count": 4,
   "metadata": {},
   "outputs": [
    {
     "name": "stdout",
     "output_type": "stream",
     "text": [
      "10\n",
      "\n",
      "결과:  23\n"
     ]
    }
   ],
   "source": [
    "n = range(1, int(input()))\n",
    "\n",
    "family_3 = {num for num in n if num % 3 == 0}\n",
    "family_5 = {num for num in n if num % 5 == 0}\n",
    "\n",
    "family_3_and_5 = list(family_3 | family_5)\n",
    "\n",
    "print(sum(family_3_and_5))"
   ]
  },
  {
   "cell_type": "markdown",
   "metadata": {},
   "source": [
    "---\n",
    "---"
   ]
  },
  {
   "cell_type": "markdown",
   "metadata": {},
   "source": [
    "# 김 박사의 비밀 데이터"
   ]
  },
  {
   "cell_type": "markdown",
   "metadata": {},
   "source": [
    "## 방법  \n",
    "[입력]  \n",
    "첫 번째 줄에는 김 박사가 저장할 데이터의 개수 자연수 N을 입력합니다. (1<=N<=100)  \n",
    "그다음 N개의 줄에는 김 박사가 저장할 데이터를 한 줄에 한 개씩 입력합니다. 한 개의 데이터는 40자리 숫자입니다.  \n",
    "\n",
    "[출력]  \n",
    "입력된 데이터로 만든 체크 암호를 출력합니다.  "
   ]
  },
  {
   "cell_type": "code",
   "execution_count": 5,
   "metadata": {},
   "outputs": [
    {
     "name": "stdout",
     "output_type": "stream",
     "text": [
      "5\n",
      "4078992311553556256114232242325503368544\n",
      "4488991150144064802036906806396067232219\n",
      "4150312888033953605329934036800697771065\n",
      "8123488067321014673905856855793458140362\n",
      "8261657077394832759223284594170652509451\n",
      "\n",
      "결과:  2910344149\n"
     ]
    }
   ],
   "source": [
    "total_data = int(input())\n",
    "data_list = []\n",
    "\n",
    "for i in range(total_data):\n",
    "    i = int(input())\n",
    "    data_list.append(i)\n",
    "check_num = int(str(sum(data_list))[:10])\n",
    "print(check_num)"
   ]
  }
 ],
 "metadata": {
  "kernelspec": {
   "display_name": "Python 3",
   "language": "python",
   "name": "python3"
  },
  "language_info": {
   "codemirror_mode": {
    "name": "ipython",
    "version": 3
   },
   "file_extension": ".py",
   "mimetype": "text/x-python",
   "name": "python",
   "nbconvert_exporter": "python",
   "pygments_lexer": "ipython3",
   "version": "3.6.10"
  },
  "toc": {
   "base_numbering": 1,
   "nav_menu": {},
   "number_sections": true,
   "sideBar": true,
   "skip_h1_title": false,
   "title_cell": "Table of Contents",
   "title_sidebar": "Contents",
   "toc_cell": false,
   "toc_position": {},
   "toc_section_display": true,
   "toc_window_display": false
  }
 },
 "nbformat": 4,
 "nbformat_minor": 4
}
