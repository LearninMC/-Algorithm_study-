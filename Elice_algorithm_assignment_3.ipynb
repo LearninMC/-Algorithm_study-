{
  "nbformat": 4,
  "nbformat_minor": 0,
  "metadata": {
    "colab": {
      "name": "Elice_algorithm_assignment_3.ipynb",
      "provenance": []
    },
    "kernelspec": {
      "name": "python3",
      "display_name": "Python 3"
    },
    "language_info": {
      "name": "python"
    }
  },
  "cells": [
    {
      "cell_type": "markdown",
      "source": [
        "### 문제 : 일을 처리하는데 걸리는 시간 T, 일의 갯수 N, 총 일하는 시간 H가 주어졌을 때, 몇 개의 일을 처리할 수 있는지 구하기"
      ],
      "metadata": {
        "id": "EJ6qTZ5W16D6"
      }
    },
    {
      "cell_type": "code",
      "execution_count": 1,
      "metadata": {
        "colab": {
          "base_uri": "https://localhost:8080/"
        },
        "id": "vRWjPWYF0utc",
        "outputId": "71885b64-1d8c-4583-b154-8139834fbf1e"
      },
      "outputs": [
        {
          "output_type": "stream",
          "name": "stdout",
          "text": [
            "6 180\n",
            "45 30 55 20 80 20\n",
            "4\n"
          ]
        }
      ],
      "source": [
        "order_num, working_time = [int(v) for v in input().split()]\n",
        "\n",
        "cook_time = [int(n) for n in input().split()]\n",
        "\n",
        "cnt = 0\n",
        "total_time = 0\n",
        "\n",
        "for i in range(order_num):\n",
        "    total_time += cook_time[i]\n",
        "    \n",
        "    if total_time < working_time:\n",
        "        cnt += 1\n",
        "    else:\n",
        "        break\n",
        "\n",
        "print(cnt)"
      ]
    },
    {
      "cell_type": "markdown",
      "source": [
        "### 문제 : 4자리의 두 숫자를 입력 값으로 준다. 이때 두 수의 자릿수 숫자를 역순으로 바꾸고 더한 값을 구하기"
      ],
      "metadata": {
        "id": "SDijq6Tp20qe"
      }
    },
    {
      "cell_type": "code",
      "source": [
        "#먼저, 생년월일을 str형태로 받음\n",
        "year_1, year_2 = [v for v in input().split()]\n",
        "\n",
        "rvs_year_1 = 0\n",
        "rvs_year_2 = 0\n",
        "\n",
        "#str형태이므로 각 자리를 인덱싱해서 int형으로 바꿔준후 계산\n",
        "for i in range(4):\n",
        "    rvs_year_1 += 10**(3-i) * int(year_1[3-i])\n",
        "    rvs_year_2 += 10**(3-i) * int(year_2[3-i])\n",
        "\n",
        "result = rvs_year_1 + rvs_year_2\n",
        "\n",
        "print(result)"
      ],
      "metadata": {
        "colab": {
          "base_uri": "https://localhost:8080/"
        },
        "id": "0s7QvDfB2SRs",
        "outputId": "6897d13c-2427-46d4-8a1b-2ef753de3f09"
      },
      "execution_count": 4,
      "outputs": [
        {
          "output_type": "stream",
          "name": "stdout",
          "text": [
            "1995 2000\n",
            "5993\n"
          ]
        }
      ]
    },
    {
      "cell_type": "markdown",
      "source": [
        "### 문제 : 숫자 하나를 입력값으로 줬을 때, 두개로 나눠서 더하기. 단 두개로 나눴을 때 숫자는 0초과 10이하의 값"
      ],
      "metadata": {
        "id": "sstE6VyZ3FU0"
      }
    },
    {
      "cell_type": "code",
      "source": [
        "my_num = input()\n",
        "\n",
        "#두자리 수인 경우 무조건 10이지만, 확장성을 위해 길게 표시\n",
        "if len(my_num) == 4:\n",
        "                    #a, b 모두 2자리 수인 경우\n",
        "    a = 10 * int(my_num[0]) + int(my_num[1])\n",
        "    b = 10 * int(my_num[2]) + int(my_num[3])\n",
        "\n",
        "elif len(my_num) == 3:\n",
        "    check = 10 * int(my_num[0]) + int(my_num[1])\n",
        "\n",
        "    if check > 10:  #a가 1자리, b가 2자리 수인 경우\n",
        "        a = int(my_num[0])\n",
        "        b = 10 * int(my_num[1]) + int(my_num[2])\n",
        "    else:           #a가 2자리, b가 1자리 수인 경우\n",
        "        a = 10 * int(my_num[0]) + int(my_num[1])\n",
        "        b = int(my_num[2])\n",
        "\n",
        "elif len(my_num) == 2:\n",
        "                    #a, b 모두 1자리 수인 경우\n",
        "    a = int(my_num[0])\n",
        "    b = int(my_num[1])\n",
        "\n",
        "else:               #a 또는 b가 0인 경우\n",
        "    a = 0\n",
        "    b = int(my_num[0])\n",
        "\n",
        "result = a + b\n",
        "\n",
        "print(result)"
      ],
      "metadata": {
        "colab": {
          "base_uri": "https://localhost:8080/"
        },
        "id": "c-cPUFdG3Mn8",
        "outputId": "6d6f3b59-cee3-4f97-d33c-41d3fc0bb28e"
      },
      "execution_count": 2,
      "outputs": [
        {
          "output_type": "stream",
          "name": "stdout",
          "text": [
            "37\n",
            "10\n"
          ]
        }
      ]
    },
    {
      "cell_type": "markdown",
      "source": [
        "### 문제 : 특정 칸에는 선물이 준비 되어있고, 사람들의 위치가 입력값으로 주어진다. 이때 몇명의 사람이 선물을 받는지 구하기"
      ],
      "metadata": {
        "id": "CPTRks1a3NH5"
      }
    },
    {
      "cell_type": "code",
      "source": [
        "trap_map = []\n",
        "trap_set1 = 'H.H.H.H.'\n",
        "trap_set2 = '.H.H.H.H'\n",
        "for t in range(4):\n",
        "    trap_map.append(trap_set1)\n",
        "    trap_map.append(trap_set2)\n",
        "\n",
        "\n",
        "input_map = []\n",
        "for k in range(8):\n",
        "    input_map.append(input())\n",
        "\n",
        "cnt = 0\n",
        "\n",
        "#input_map과 trap_map에서 H로 일치하면 cnt증가\n",
        "for i in range(8):\n",
        "    for j in range(8):\n",
        "        if (trap_map[i][j] == 'H') & (input_map[i][j] == 'H'):\n",
        "            cnt += 1\n",
        "\n",
        "print(cnt)"
      ],
      "metadata": {
        "colab": {
          "base_uri": "https://localhost:8080/"
        },
        "id": "hEgaO02H3OVa",
        "outputId": "89dbb561-a444-4db7-d467-06b223dc37f3"
      },
      "execution_count": 5,
      "outputs": [
        {
          "output_type": "stream",
          "name": "stdout",
          "text": [
            ".H.HHHH.\n",
            ".H.HHHH.\n",
            ".H.HHHH.\n",
            ".H.HHHH.\n",
            ".H.HHHH.\n",
            ".H.HHHH.\n",
            ".H.HHHH.\n",
            ".H.HHHH.\n",
            "20\n"
          ]
        }
      ]
    },
    {
      "cell_type": "markdown",
      "source": [
        "### 문제 : 100000 이하의 숫자가 주어지고, 1부터 그 숫자까지 이어서 쭉 나열할 때, 주어진 숫자가 몇번째 자릿수에서 등장하는지 구하기"
      ],
      "metadata": {
        "id": "dPKESAYT3SIg"
      }
    },
    {
      "cell_type": "code",
      "source": [
        "str_n = input()\n",
        "n = int(str_n)\n",
        "k = len(str_n)\n",
        "cnt = 1\n",
        "\n",
        "# 1부터 N까지 이어 붙인 str 형 숫자\n",
        "str_linked_n = \"\"\n",
        "for i in range(1, n+1):\n",
        "    str_linked_n += str(i)\n",
        "\n",
        "# str형 숫자의 첫번째 자리(index=0) 부터 비교해서,\n",
        "# input 값과 일치하면 break 하고 그때의 자릿수 출력\n",
        "\n",
        "while True:\n",
        "    a = str_linked_n[cnt-1:cnt-1+k]\n",
        "    b = str_n\n",
        "    if a==b:\n",
        "        break\n",
        "    cnt += 1\n",
        "print(cnt)"
      ],
      "metadata": {
        "colab": {
          "base_uri": "https://localhost:8080/"
        },
        "id": "Gq1_sKhc4fSi",
        "outputId": "af9baf9d-d20f-4c06-91f9-258b039778ba"
      },
      "execution_count": 6,
      "outputs": [
        {
          "output_type": "stream",
          "name": "stdout",
          "text": [
            "121\n",
            "14\n"
          ]
        }
      ]
    },
    {
      "cell_type": "markdown",
      "source": [
        "### 문제 : 이분탐색 문제이며, 경우의 수를 구하는 문제 (시간복잡도를 고려해야 정답인정)"
      ],
      "metadata": {
        "id": "ZZ-CmIdS5DR-"
      }
    },
    {
      "cell_type": "code",
      "source": [
        "import timeit\n",
        "\n",
        "st = timeit.default_timer()\n",
        "\n",
        "target = int(input())\n",
        "\n",
        "na = int(input())\n",
        "a_list = list(map(int, input().split()))\n",
        "\n",
        "nb = int(input())\n",
        "b_list = list(map(int, input().split()))\n",
        "\n",
        "# A구간 합에 대한 딕셔너리 ({구간합 : 가지수}) 생성\n",
        "a_sum_list = {}\n",
        "for i in range(na):\n",
        "    key_a_sum = 0\n",
        "    for j in range(i, na):\n",
        "        key_a_sum += a_list[j]\n",
        "        if key_a_sum in a_sum_list:\n",
        "            a_sum_list[key_a_sum] += 1\n",
        "        else:\n",
        "            a_sum_list[key_a_sum] = 1\n",
        "\n",
        "# B구간 합을 구하면서 target 과 뺀 값이 a_sum_list에 있는지 확인. 있으면 그 value 값인 가지수를 cnt에 더해줌\n",
        "cnt = 0\n",
        "for i in range(nb):\n",
        "    b_sum = 0\n",
        "    for j in range(i, nb):\n",
        "        b_sum += b_list[j]\n",
        "        can_be_a_sum = target - b_sum\n",
        "\n",
        "        if can_be_a_sum in a_sum_list:\n",
        "            cnt += a_sum_list[can_be_a_sum]\n",
        "\n",
        "print(cnt)"
      ],
      "metadata": {
        "colab": {
          "base_uri": "https://localhost:8080/"
        },
        "id": "Trv_YvdY4-4U",
        "outputId": "c94b37e4-039a-4ef0-ad66-929f4a4c46be"
      },
      "execution_count": 8,
      "outputs": [
        {
          "output_type": "stream",
          "name": "stdout",
          "text": [
            "5\n",
            "4\n",
            "1 3 1 2\n",
            "3\n",
            "1 3 2\n",
            "7\n"
          ]
        }
      ]
    },
    {
      "cell_type": "markdown",
      "source": [
        "### 문제 : (그리디 탐색) 인접한 두 수의 합이 3의 배수가 되지 않도록 하기. 정답 여러개인 경우 사전 순으로 빠른 답 출력 - 문제답안 오류 있음"
      ],
      "metadata": {
        "id": "RHZhHv_J7tPK"
      }
    },
    {
      "cell_type": "code",
      "source": [
        "n = int(input())\n",
        "my_list = [int(v) for v in input().split()]\n",
        "\n",
        "group_a = []\n",
        "group_b = []\n",
        "group_c = []\n",
        "\n",
        "for i in range(len(my_list)):\n",
        "    if my_list[i] % 3 == 0:\n",
        "        group_a.append(my_list[i])\n",
        "    elif my_list[i] % 3 == 1:\n",
        "        group_b.append(my_list[i])\n",
        "    elif my_list[i] % 3 == 2:\n",
        "        group_c.append(my_list[i])\n",
        "\n",
        "# 사전 빠른 순 정답 제출이니, sort 해서 오름차순으로 세팅해놓음. 이렇게 하고 제출하면 답이 틀리다고 나옴\n",
        "# group_a.sort()\n",
        "# group_b.sort()\n",
        "# group_c.sort()\n",
        "\n",
        "if len(group_a) > 1+len(group_b + group_c):\n",
        "    result = -1\n",
        "    print(result)\n",
        "elif (len(group_a)==0) & (len(group_b)!=0) &(len(group_c) !=0):\n",
        "    result = -1\n",
        "    print(result)\n",
        "else:\n",
        "    r = []\n",
        "    # 문제 키포인트는 3의 배수 그룹. 얘네들은 서로 붙어있으면 안됨.\n",
        "    for v in group_a:\n",
        "        if r:\n",
        "            r += (group_b or group_c).pop(),\n",
        "        r+= v,\n",
        "    print(*group_b+r+group_c)"
      ],
      "metadata": {
        "colab": {
          "base_uri": "https://localhost:8080/"
        },
        "id": "Z5mbvLAZ6brS",
        "outputId": "a7aff7e2-2f01-44e6-b5c7-a5761de7bdb1"
      },
      "execution_count": 9,
      "outputs": [
        {
          "output_type": "stream",
          "name": "stdout",
          "text": [
            "3\n",
            "1 2 3\n",
            "1 3 2\n"
          ]
        }
      ]
    },
    {
      "cell_type": "markdown",
      "source": [
        "### 문제 : (재귀호출) 괄호안의 숫자 압축풀기"
      ],
      "metadata": {
        "id": "vUCMnUmA79yl"
      }
    },
    {
      "cell_type": "code",
      "source": [
        "def decompose(val, multiple_num):\n",
        "    # input 값 중에 괄호가 있는 인덱스를 리스트에 저장한다.\n",
        "    parenthesis_list = []\n",
        "    for index, value in enumerate(val):\n",
        "        if value == '(' or value == ')':\n",
        "            parenthesis_list.append(index)\n",
        "    \n",
        "    # 초기조건, 괄호가 없는 경우\n",
        "    if len(parenthesis_list) == 0:\n",
        "        return multiple_num * val\n",
        "    \n",
        "    # 괄호가 있을 경우, 재귀호출\n",
        "    else:\n",
        "        first_index = min(parenthesis_list)\n",
        "        last_index = max(parenthesis_list)\n",
        "\n",
        "        next_val = val[first_index+1:last_index]\n",
        "        next_multiple_num = int(val[first_index-1])\n",
        "\n",
        "        return multiple_num * (val[:first_index-1] + decompose(next_val, next_multiple_num))\n",
        "\n",
        "my_input = input()\n",
        "result = len(decompose(my_input, 1))\n",
        "print(result)"
      ],
      "metadata": {
        "colab": {
          "base_uri": "https://localhost:8080/"
        },
        "id": "VJbAmSK28E4S",
        "outputId": "2043abca-f0ad-4097-a3f7-9b18917cc632"
      },
      "execution_count": 10,
      "outputs": [
        {
          "output_type": "stream",
          "name": "stdout",
          "text": [
            "11(18(72(7)))\n",
            "26\n"
          ]
        }
      ]
    },
    {
      "cell_type": "markdown",
      "source": [
        "### 문제 : (자리바꾸기) 숫자 여러개 주어지고, N번 자리 바꾼뒤 쭉 이어서 숫자를 하나로 합칠 때 가장 큰 숫자가 되도록 하기 - 정답오류 있음"
      ],
      "metadata": {
        "id": "QkRe1MtK8God"
      }
    },
    {
      "cell_type": "code",
      "source": [
        "# 우선 80점짜리 제출안 ver01, 교환횟수 넉넉하면 정확도 100%짜리 답안이지만, \n",
        "# 교환횟수 적을 때 특정상황에서 틀리는 오류가 있음\n",
        "n = int(input())\n",
        "my_list = [v for v in input().split()]\n",
        "s = int(input())\n",
        "switch_num = 0\n",
        "idx = 0\n",
        "\n",
        "while (switch_num < s and idx < n-1):\n",
        "    a = int(my_list[idx] + my_list[idx+1])\n",
        "    b = int(my_list[idx+1] + my_list[idx])\n",
        "    if a >= b:\n",
        "        idx += 1\n",
        "        continue\n",
        "    else:\n",
        "        temp = my_list[idx+1]\n",
        "        del my_list[idx+1]\n",
        "        my_list.insert(idx, temp)\n",
        "        switch_num += 1\n",
        "        if idx != 0:\n",
        "            idx -= 1\n",
        "\n",
        "result = \"\"\n",
        "\n",
        "for i in my_list:\n",
        "    result += i\n",
        "\n",
        "print(result)"
      ],
      "metadata": {
        "colab": {
          "base_uri": "https://localhost:8080/"
        },
        "id": "TEJJalaG8R1K",
        "outputId": "ccedef0c-5c9e-4189-c505-daa224f09c92"
      },
      "execution_count": 11,
      "outputs": [
        {
          "output_type": "stream",
          "name": "stdout",
          "text": [
            "7\n",
            "10 20 30 40 50 60 70\n",
            "1\n",
            "20103040506070\n"
          ]
        }
      ]
    },
    {
      "cell_type": "code",
      "source": [
        "# 제출안 ver2 교환 횟수 많을 때, 답이 틀리는 오류가 있는데 원인을 모르겠음. 제공 받은 정답 코드도 오류가 있는 것 확인됨.\n",
        "\n",
        "n = int(input())\n",
        "my_list = [v for v in input().split()]\n",
        "total_switch = int(input())\n",
        "idx = 0\n",
        "\n",
        "while (total_switch > 0) and (idx < n):\n",
        "    change_val = 0\n",
        "    change_idx = 0\n",
        "    len_c = 0\n",
        "\n",
        "    for i in range(idx+1, min(idx+1+total_switch, n)):\n",
        "        origin = my_list[idx] + my_list[i]\n",
        "        next_one = my_list[i] + my_list[idx]\n",
        "        len_a = len(origin)\n",
        "        len_b = len(next_one)\n",
        "        cp_digit = min(len_a, len_b)\n",
        "        a = int(origin[:cp_digit])\n",
        "        b = int(next_one[:cp_digit])\n",
        "        cp_digit2 = 0\n",
        "\n",
        "        if a>=b: # 그대로\n",
        "            continue\n",
        "        else:\n",
        "            # 자리 바꿀 기회를 가짐, for문 다 돌아갈 때, 가장 큰 값이랑 자리 교체할 것임\n",
        "            if change_val == 0: #초기값 설정\n",
        "                change_val = next_one\n",
        "                change_idx = i\n",
        "                len_c = len(change_val)\n",
        "\n",
        "            cp_digit2 = min(len_b, len_c)\n",
        "            if change_val[:cp_digit2] > next_one[:cp_digit2]:\n",
        "                continue\n",
        "            else:\n",
        "                change_val = next_one\n",
        "                change_idx = i\n",
        "                len_c = len(change_val)\n",
        "\n",
        "    temp = my_list[change_idx]\n",
        "    del my_list[change_idx]\n",
        "    my_list.insert(idx, temp)\n",
        "    total_switch -= (i-idx)\n",
        "    idx += 1\n",
        "\n",
        "result = \"\"\n",
        "for i in my_list:\n",
        "    result += i\n",
        "print(result)\n"
      ],
      "metadata": {
        "colab": {
          "base_uri": "https://localhost:8080/"
        },
        "id": "mv3ZEfDeAb4X",
        "outputId": "bd69e679-7b98-46f1-8389-67db1d1f84a7"
      },
      "execution_count": 12,
      "outputs": [
        {
          "output_type": "stream",
          "name": "stdout",
          "text": [
            "7\n",
            "10 20 30 40 50 60 70\n",
            "1\n",
            "20103040506070\n"
          ]
        }
      ]
    },
    {
      "cell_type": "markdown",
      "source": [
        "### 문제 : (우선순위 큐) N개의 폭탄 주어짐, 폭탄해제시간 각각 P, 주어진 총 시간 T, 최대로 해제할 수 있는 폭탄 수 구하기"
      ],
      "metadata": {
        "id": "8dpilGMg8UWu"
      }
    },
    {
      "cell_type": "markdown",
      "source": [
        "원래 heapq 를 써서 풀라고 주어졌지만, 자료구조 쪽이 약해서, 손에 잘 맞는 방식으로 풀었음"
      ],
      "metadata": {
        "id": "xc8CJ6X0C6FU"
      }
    },
    {
      "cell_type": "code",
      "source": [
        "[n, t, p] = [int(v) for v in input().split()]\n",
        "need_time = list()\n",
        "\n",
        "for v in map(int, input().split()):\n",
        "    need_time += v,\n",
        "\n",
        "cnt = 0\n",
        "idx = 0\n",
        "result = []\n",
        "\n",
        "while idx < n:\n",
        "    result.append(need_time[idx])\n",
        "    t -= need_time[idx]\n",
        "    if t < 0:\n",
        "        a = max(result)\n",
        "        result.remove(a)\n",
        "        t += a\n",
        "    cnt = max(cnt, len(result))\n",
        "    idx += 1\n",
        "    t -= p\n",
        "\n",
        "print(cnt)"
      ],
      "metadata": {
        "colab": {
          "base_uri": "https://localhost:8080/"
        },
        "id": "dSEMVlA38qWy",
        "outputId": "2e9fba20-3178-42c4-d7a8-3a4ee2371a50"
      },
      "execution_count": 13,
      "outputs": [
        {
          "output_type": "stream",
          "name": "stdout",
          "text": [
            "6 17 1\n",
            "3 5 2 6 9 1\n",
            "4\n"
          ]
        }
      ]
    },
    {
      "cell_type": "code",
      "source": [
        ""
      ],
      "metadata": {
        "id": "ACMbTPC6C1PO"
      },
      "execution_count": null,
      "outputs": []
    }
  ]
}